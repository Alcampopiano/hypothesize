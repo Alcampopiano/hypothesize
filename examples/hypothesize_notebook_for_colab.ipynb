{
 "cells": [
  {
   "cell_type": "markdown",
   "metadata": {},
   "source": [
    "### How to compare two groups"
   ]
  },
  {
   "cell_type": "markdown",
   "metadata": {},
   "source": [
    "#### Load data from a CSV"
   ]
  },
  {
   "cell_type": "code",
   "execution_count": 1,
   "metadata": {},
   "outputs": [
    {
     "data": {
      "text/html": [
       "<div>\n",
       "<style scoped>\n",
       "    .dataframe tbody tr th:only-of-type {\n",
       "        vertical-align: middle;\n",
       "    }\n",
       "\n",
       "    .dataframe tbody tr th {\n",
       "        vertical-align: top;\n",
       "    }\n",
       "\n",
       "    .dataframe thead th {\n",
       "        text-align: right;\n",
       "    }\n",
       "</style>\n",
       "<table border=\"1\" class=\"dataframe\">\n",
       "  <thead>\n",
       "    <tr style=\"text-align: right;\">\n",
       "      <th></th>\n",
       "      <th>Group_1</th>\n",
       "      <th>Group_2</th>\n",
       "    </tr>\n",
       "  </thead>\n",
       "  <tbody>\n",
       "    <tr>\n",
       "      <th>0</th>\n",
       "      <td>0.044652</td>\n",
       "      <td>0.906750</td>\n",
       "    </tr>\n",
       "    <tr>\n",
       "      <th>1</th>\n",
       "      <td>0.763458</td>\n",
       "      <td>0.291555</td>\n",
       "    </tr>\n",
       "    <tr>\n",
       "      <th>2</th>\n",
       "      <td>0.710390</td>\n",
       "      <td>0.598280</td>\n",
       "    </tr>\n",
       "    <tr>\n",
       "      <th>3</th>\n",
       "      <td>0.175208</td>\n",
       "      <td>0.268073</td>\n",
       "    </tr>\n",
       "    <tr>\n",
       "      <th>4</th>\n",
       "      <td>0.957819</td>\n",
       "      <td>0.222688</td>\n",
       "    </tr>\n",
       "  </tbody>\n",
       "</table>\n",
       "</div>"
      ],
      "text/plain": [
       "    Group_1   Group_2\n",
       "0  0.044652  0.906750\n",
       "1  0.763458  0.291555\n",
       "2  0.710390  0.598280\n",
       "3  0.175208  0.268073\n",
       "4  0.957819  0.222688"
      ]
     },
     "execution_count": 1,
     "metadata": {},
     "output_type": "execute_result"
    }
   ],
   "source": [
    "import pandas as pd\n",
    "\n",
    "df=pd.read_csv(\"/home/allan/two_groups_data.csv\")\n",
    "\n",
    "df.head()"
   ]
  },
  {
   "cell_type": "markdown",
   "metadata": {},
   "source": [
    "#### Import the desired function and pass in the data for each group\n",
    "- This example uses the bootstrapped-t method with 20% trimmed means\n",
    "- The output is a dictionary containing the results (95% confidence interval, p_value, test statistics, etc...)"
   ]
  },
  {
   "cell_type": "code",
   "execution_count": 2,
   "metadata": {},
   "outputs": [
    {
     "name": "stdout",
     "output_type": "stream",
     "text": [
      "[-0.32294783884298334, 0.11774331261500753]\n"
     ]
    }
   ],
   "source": [
    "from hypothesize.compare_groups_with_single_factor import yuenbt\n",
    "\n",
    "results=yuenbt(df.Group_1, df.Group_2)\n",
    "\n",
    "print(results['ci'])"
   ]
  },
  {
   "cell_type": "markdown",
   "metadata": {},
   "source": [
    "---"
   ]
  },
  {
   "cell_type": "markdown",
   "metadata": {},
   "source": [
    "### How to compare three groups"
   ]
  },
  {
   "cell_type": "markdown",
   "metadata": {},
   "source": [
    "#### Load data from a CSV"
   ]
  },
  {
   "cell_type": "code",
   "execution_count": 3,
   "metadata": {},
   "outputs": [
    {
     "data": {
      "text/html": [
       "<div>\n",
       "<style scoped>\n",
       "    .dataframe tbody tr th:only-of-type {\n",
       "        vertical-align: middle;\n",
       "    }\n",
       "\n",
       "    .dataframe tbody tr th {\n",
       "        vertical-align: top;\n",
       "    }\n",
       "\n",
       "    .dataframe thead th {\n",
       "        text-align: right;\n",
       "    }\n",
       "</style>\n",
       "<table border=\"1\" class=\"dataframe\">\n",
       "  <thead>\n",
       "    <tr style=\"text-align: right;\">\n",
       "      <th></th>\n",
       "      <th>Group_1</th>\n",
       "      <th>Group_2</th>\n",
       "      <th>Group_3</th>\n",
       "    </tr>\n",
       "  </thead>\n",
       "  <tbody>\n",
       "    <tr>\n",
       "      <th>0</th>\n",
       "      <td>0.044652</td>\n",
       "      <td>0.906750</td>\n",
       "      <td>0.795696</td>\n",
       "    </tr>\n",
       "    <tr>\n",
       "      <th>1</th>\n",
       "      <td>0.763458</td>\n",
       "      <td>0.291555</td>\n",
       "      <td>0.841580</td>\n",
       "    </tr>\n",
       "    <tr>\n",
       "      <th>2</th>\n",
       "      <td>0.710390</td>\n",
       "      <td>0.598280</td>\n",
       "      <td>0.110407</td>\n",
       "    </tr>\n",
       "    <tr>\n",
       "      <th>3</th>\n",
       "      <td>0.175208</td>\n",
       "      <td>0.268073</td>\n",
       "      <td>0.888728</td>\n",
       "    </tr>\n",
       "    <tr>\n",
       "      <th>4</th>\n",
       "      <td>0.957819</td>\n",
       "      <td>0.222688</td>\n",
       "      <td>0.834161</td>\n",
       "    </tr>\n",
       "  </tbody>\n",
       "</table>\n",
       "</div>"
      ],
      "text/plain": [
       "    Group_1   Group_2   Group_3\n",
       "0  0.044652  0.906750  0.795696\n",
       "1  0.763458  0.291555  0.841580\n",
       "2  0.710390  0.598280  0.110407\n",
       "3  0.175208  0.268073  0.888728\n",
       "4  0.957819  0.222688  0.834161"
      ]
     },
     "execution_count": 3,
     "metadata": {},
     "output_type": "execute_result"
    }
   ],
   "source": [
    "import pandas as pd\n",
    "\n",
    "df=pd.read_csv(\"/home/allan/one_way_data.csv\")\n",
    "\n",
    "df.head()"
   ]
  },
  {
   "cell_type": "markdown",
   "metadata": {},
   "source": [
    "#### Import the desired functions and pass in the inputs\n",
    "- One appraoch is to use a set of linear contrasts that will test all pairwise comparisons\n",
    "- Then, the bootstrap-t method and the 20% trimmed mean can be used\n",
    "- CIs are adjusted to control for FWE\n",
    "- All pairwise contrasts can be created automatically using the `con1way` function\n",
    "- The results are a dictionary of DataFrames that contain various statistics (p_value, CIs, standard error, test statistics, etc)"
   ]
  },
  {
   "cell_type": "code",
   "execution_count": 4,
   "metadata": {},
   "outputs": [],
   "source": [
    "from hypothesize.compare_groups_with_single_factor import linconb\n",
    "from hypothesize.utilities import con1way\n",
    "\n",
    "results=linconb(df, con=con1way(3))"
   ]
  },
  {
   "cell_type": "code",
   "execution_count": 5,
   "metadata": {},
   "outputs": [
    {
     "data": {
      "text/html": [
       "<div>\n",
       "<style scoped>\n",
       "    .dataframe tbody tr th:only-of-type {\n",
       "        vertical-align: middle;\n",
       "    }\n",
       "\n",
       "    .dataframe tbody tr th {\n",
       "        vertical-align: top;\n",
       "    }\n",
       "\n",
       "    .dataframe thead th {\n",
       "        text-align: right;\n",
       "    }\n",
       "</style>\n",
       "<table border=\"1\" class=\"dataframe\">\n",
       "  <thead>\n",
       "    <tr style=\"text-align: right;\">\n",
       "      <th></th>\n",
       "      <th>contrast_index</th>\n",
       "      <th>test</th>\n",
       "      <th>se</th>\n",
       "      <th>p_value</th>\n",
       "    </tr>\n",
       "  </thead>\n",
       "  <tbody>\n",
       "    <tr>\n",
       "      <th>0</th>\n",
       "      <td>0.0</td>\n",
       "      <td>-0.999892</td>\n",
       "      <td>0.102613</td>\n",
       "      <td>0.333890</td>\n",
       "    </tr>\n",
       "    <tr>\n",
       "      <th>1</th>\n",
       "      <td>1.0</td>\n",
       "      <td>-0.658110</td>\n",
       "      <td>0.099610</td>\n",
       "      <td>0.522538</td>\n",
       "    </tr>\n",
       "    <tr>\n",
       "      <th>2</th>\n",
       "      <td>2.0</td>\n",
       "      <td>0.362839</td>\n",
       "      <td>0.102106</td>\n",
       "      <td>0.709516</td>\n",
       "    </tr>\n",
       "  </tbody>\n",
       "</table>\n",
       "</div>"
      ],
      "text/plain": [
       "   contrast_index      test        se   p_value\n",
       "0             0.0 -0.999892  0.102613  0.333890\n",
       "1             1.0 -0.658110  0.099610  0.522538\n",
       "2             2.0  0.362839  0.102106  0.709516"
      ]
     },
     "execution_count": 5,
     "metadata": {},
     "output_type": "execute_result"
    }
   ],
   "source": [
    "results['test']"
   ]
  },
  {
   "cell_type": "code",
   "execution_count": 6,
   "metadata": {},
   "outputs": [
    {
     "data": {
      "text/html": [
       "<div>\n",
       "<style scoped>\n",
       "    .dataframe tbody tr th:only-of-type {\n",
       "        vertical-align: middle;\n",
       "    }\n",
       "\n",
       "    .dataframe tbody tr th {\n",
       "        vertical-align: top;\n",
       "    }\n",
       "\n",
       "    .dataframe thead th {\n",
       "        text-align: right;\n",
       "    }\n",
       "</style>\n",
       "<table border=\"1\" class=\"dataframe\">\n",
       "  <thead>\n",
       "    <tr style=\"text-align: right;\">\n",
       "      <th></th>\n",
       "      <th>contrast_index</th>\n",
       "      <th>psihat</th>\n",
       "      <th>ci_low</th>\n",
       "      <th>ci_up</th>\n",
       "    </tr>\n",
       "  </thead>\n",
       "  <tbody>\n",
       "    <tr>\n",
       "      <th>0</th>\n",
       "      <td>0.0</td>\n",
       "      <td>-0.102602</td>\n",
       "      <td>-0.368850</td>\n",
       "      <td>0.163646</td>\n",
       "    </tr>\n",
       "    <tr>\n",
       "      <th>1</th>\n",
       "      <td>1.0</td>\n",
       "      <td>-0.065554</td>\n",
       "      <td>-0.324009</td>\n",
       "      <td>0.192900</td>\n",
       "    </tr>\n",
       "    <tr>\n",
       "      <th>2</th>\n",
       "      <td>2.0</td>\n",
       "      <td>0.037048</td>\n",
       "      <td>-0.227883</td>\n",
       "      <td>0.301979</td>\n",
       "    </tr>\n",
       "  </tbody>\n",
       "</table>\n",
       "</div>"
      ],
      "text/plain": [
       "   contrast_index    psihat    ci_low     ci_up\n",
       "0             0.0 -0.102602 -0.368850  0.163646\n",
       "1             1.0 -0.065554 -0.324009  0.192900\n",
       "2             2.0  0.037048 -0.227883  0.301979"
      ]
     },
     "execution_count": 6,
     "metadata": {},
     "output_type": "execute_result"
    }
   ],
   "source": [
    "results['psihat']"
   ]
  },
  {
   "cell_type": "markdown",
   "metadata": {},
   "source": [
    "---"
   ]
  },
  {
   "cell_type": "markdown",
   "metadata": {},
   "source": [
    "### How to compare groups in a factorial design"
   ]
  },
  {
   "cell_type": "markdown",
   "metadata": {},
   "source": [
    "#### Load data from a CSV"
   ]
  },
  {
   "cell_type": "code",
   "execution_count": 7,
   "metadata": {},
   "outputs": [
    {
     "data": {
      "text/html": [
       "<div>\n",
       "<style scoped>\n",
       "    .dataframe tbody tr th:only-of-type {\n",
       "        vertical-align: middle;\n",
       "    }\n",
       "\n",
       "    .dataframe tbody tr th {\n",
       "        vertical-align: top;\n",
       "    }\n",
       "\n",
       "    .dataframe thead th {\n",
       "        text-align: right;\n",
       "    }\n",
       "</style>\n",
       "<table border=\"1\" class=\"dataframe\">\n",
       "  <thead>\n",
       "    <tr style=\"text-align: right;\">\n",
       "      <th></th>\n",
       "      <th>cell_1_1</th>\n",
       "      <th>cell_1_2</th>\n",
       "      <th>cell_1_3</th>\n",
       "      <th>cell_2_1</th>\n",
       "      <th>cell_2_2</th>\n",
       "      <th>cell_2_3</th>\n",
       "    </tr>\n",
       "  </thead>\n",
       "  <tbody>\n",
       "    <tr>\n",
       "      <th>0</th>\n",
       "      <td>0.044652</td>\n",
       "      <td>0.906750</td>\n",
       "      <td>0.795696</td>\n",
       "      <td>0.519486</td>\n",
       "      <td>0.333636</td>\n",
       "      <td>0.232153</td>\n",
       "    </tr>\n",
       "    <tr>\n",
       "      <th>1</th>\n",
       "      <td>0.763458</td>\n",
       "      <td>0.291555</td>\n",
       "      <td>0.841580</td>\n",
       "      <td>0.033989</td>\n",
       "      <td>0.511235</td>\n",
       "      <td>0.732503</td>\n",
       "    </tr>\n",
       "    <tr>\n",
       "      <th>2</th>\n",
       "      <td>0.710390</td>\n",
       "      <td>0.598280</td>\n",
       "      <td>0.110407</td>\n",
       "      <td>0.898072</td>\n",
       "      <td>0.769496</td>\n",
       "      <td>0.048401</td>\n",
       "    </tr>\n",
       "    <tr>\n",
       "      <th>3</th>\n",
       "      <td>0.175208</td>\n",
       "      <td>0.268073</td>\n",
       "      <td>0.888728</td>\n",
       "      <td>0.287442</td>\n",
       "      <td>0.100153</td>\n",
       "      <td>0.210394</td>\n",
       "    </tr>\n",
       "    <tr>\n",
       "      <th>4</th>\n",
       "      <td>0.957819</td>\n",
       "      <td>0.222688</td>\n",
       "      <td>0.834161</td>\n",
       "      <td>0.599158</td>\n",
       "      <td>0.655308</td>\n",
       "      <td>0.203486</td>\n",
       "    </tr>\n",
       "  </tbody>\n",
       "</table>\n",
       "</div>"
      ],
      "text/plain": [
       "   cell_1_1  cell_1_2  cell_1_3  cell_2_1  cell_2_2  cell_2_3\n",
       "0  0.044652  0.906750  0.795696  0.519486  0.333636  0.232153\n",
       "1  0.763458  0.291555  0.841580  0.033989  0.511235  0.732503\n",
       "2  0.710390  0.598280  0.110407  0.898072  0.769496  0.048401\n",
       "3  0.175208  0.268073  0.888728  0.287442  0.100153  0.210394\n",
       "4  0.957819  0.222688  0.834161  0.599158  0.655308  0.203486"
      ]
     },
     "execution_count": 7,
     "metadata": {},
     "output_type": "execute_result"
    }
   ],
   "source": [
    "import pandas as pd\n",
    "\n",
    "df=pd.read_csv(\"/home/allan/two_way_data.csv\")\n",
    "\n",
    "df.head()"
   ]
  },
  {
   "cell_type": "markdown",
   "metadata": {},
   "source": [
    "#### Import the desired function and pass in the data\n",
    "- This example uses a 2-by-3 design\n",
    "- One approach is to use a set of linear contrasts that will test all main effects and interactions\n",
    "- Then, the bootstrap-t method and the 20% trimmed mean can be used\n",
    "- CIs are adjusted to control for FWE for each family of tests (factor A, factor B, and the interactions)\n",
    "- All pairwise contrasts are created internally using the `con2way` function\n",
    "- The results are a dictionary of DataFrames that contain various statistics for each factor and the interactions"
   ]
  },
  {
   "cell_type": "code",
   "execution_count": 8,
   "metadata": {},
   "outputs": [],
   "source": [
    "from hypothesize.compare_groups_with_two_factors import bwmcp\n",
    "\n",
    "results=bwmcp(J=2, K=3, x=df)"
   ]
  },
  {
   "cell_type": "code",
   "execution_count": 9,
   "metadata": {},
   "outputs": [
    {
     "data": {
      "text/html": [
       "<div>\n",
       "<style scoped>\n",
       "    .dataframe tbody tr th:only-of-type {\n",
       "        vertical-align: middle;\n",
       "    }\n",
       "\n",
       "    .dataframe tbody tr th {\n",
       "        vertical-align: top;\n",
       "    }\n",
       "\n",
       "    .dataframe thead th {\n",
       "        text-align: right;\n",
       "    }\n",
       "</style>\n",
       "<table border=\"1\" class=\"dataframe\">\n",
       "  <thead>\n",
       "    <tr style=\"text-align: right;\">\n",
       "      <th></th>\n",
       "      <th>con_num</th>\n",
       "      <th>psihat</th>\n",
       "      <th>se</th>\n",
       "      <th>test</th>\n",
       "      <th>crit_value</th>\n",
       "      <th>p_value</th>\n",
       "    </tr>\n",
       "  </thead>\n",
       "  <tbody>\n",
       "    <tr>\n",
       "      <th>0</th>\n",
       "      <td>0.0</td>\n",
       "      <td>0.039358</td>\n",
       "      <td>0.169849</td>\n",
       "      <td>0.231726</td>\n",
       "      <td>3.458663</td>\n",
       "      <td>0.924875</td>\n",
       "    </tr>\n",
       "  </tbody>\n",
       "</table>\n",
       "</div>"
      ],
      "text/plain": [
       "   con_num    psihat        se      test  crit_value   p_value\n",
       "0      0.0  0.039358  0.169849  0.231726    3.458663  0.924875"
      ]
     },
     "execution_count": 9,
     "metadata": {},
     "output_type": "execute_result"
    }
   ],
   "source": [
    "results['factor_A']"
   ]
  },
  {
   "cell_type": "code",
   "execution_count": 10,
   "metadata": {},
   "outputs": [
    {
     "data": {
      "text/html": [
       "<div>\n",
       "<style scoped>\n",
       "    .dataframe tbody tr th:only-of-type {\n",
       "        vertical-align: middle;\n",
       "    }\n",
       "\n",
       "    .dataframe tbody tr th {\n",
       "        vertical-align: top;\n",
       "    }\n",
       "\n",
       "    .dataframe thead th {\n",
       "        text-align: right;\n",
       "    }\n",
       "</style>\n",
       "<table border=\"1\" class=\"dataframe\">\n",
       "  <thead>\n",
       "    <tr style=\"text-align: right;\">\n",
       "      <th></th>\n",
       "      <th>con_num</th>\n",
       "      <th>psihat</th>\n",
       "      <th>se</th>\n",
       "      <th>test</th>\n",
       "      <th>crit_value</th>\n",
       "      <th>p_value</th>\n",
       "    </tr>\n",
       "  </thead>\n",
       "  <tbody>\n",
       "    <tr>\n",
       "      <th>0</th>\n",
       "      <td>0.0</td>\n",
       "      <td>-0.104506</td>\n",
       "      <td>0.126135</td>\n",
       "      <td>-0.828529</td>\n",
       "      <td>2.613274</td>\n",
       "      <td>0.400668</td>\n",
       "    </tr>\n",
       "    <tr>\n",
       "      <th>1</th>\n",
       "      <td>1.0</td>\n",
       "      <td>-0.093136</td>\n",
       "      <td>0.151841</td>\n",
       "      <td>-0.613382</td>\n",
       "      <td>2.613274</td>\n",
       "      <td>0.540902</td>\n",
       "    </tr>\n",
       "    <tr>\n",
       "      <th>2</th>\n",
       "      <td>2.0</td>\n",
       "      <td>0.011370</td>\n",
       "      <td>0.135392</td>\n",
       "      <td>0.083978</td>\n",
       "      <td>2.613274</td>\n",
       "      <td>0.943239</td>\n",
       "    </tr>\n",
       "  </tbody>\n",
       "</table>\n",
       "</div>"
      ],
      "text/plain": [
       "   con_num    psihat        se      test  crit_value   p_value\n",
       "0      0.0 -0.104506  0.126135 -0.828529    2.613274  0.400668\n",
       "1      1.0 -0.093136  0.151841 -0.613382    2.613274  0.540902\n",
       "2      2.0  0.011370  0.135392  0.083978    2.613274  0.943239"
      ]
     },
     "execution_count": 10,
     "metadata": {},
     "output_type": "execute_result"
    }
   ],
   "source": [
    "results['factor_B']"
   ]
  },
  {
   "cell_type": "code",
   "execution_count": 11,
   "metadata": {},
   "outputs": [
    {
     "data": {
      "text/html": [
       "<div>\n",
       "<style scoped>\n",
       "    .dataframe tbody tr th:only-of-type {\n",
       "        vertical-align: middle;\n",
       "    }\n",
       "\n",
       "    .dataframe tbody tr th {\n",
       "        vertical-align: top;\n",
       "    }\n",
       "\n",
       "    .dataframe thead th {\n",
       "        text-align: right;\n",
       "    }\n",
       "</style>\n",
       "<table border=\"1\" class=\"dataframe\">\n",
       "  <thead>\n",
       "    <tr style=\"text-align: right;\">\n",
       "      <th></th>\n",
       "      <th>con_num</th>\n",
       "      <th>psihat</th>\n",
       "      <th>se</th>\n",
       "      <th>test</th>\n",
       "      <th>crit_value</th>\n",
       "      <th>p_value</th>\n",
       "    </tr>\n",
       "  </thead>\n",
       "  <tbody>\n",
       "    <tr>\n",
       "      <th>0</th>\n",
       "      <td>0.0</td>\n",
       "      <td>-0.100698</td>\n",
       "      <td>0.126135</td>\n",
       "      <td>-0.798336</td>\n",
       "      <td>2.412767</td>\n",
       "      <td>0.470785</td>\n",
       "    </tr>\n",
       "    <tr>\n",
       "      <th>1</th>\n",
       "      <td>1.0</td>\n",
       "      <td>-0.037972</td>\n",
       "      <td>0.151841</td>\n",
       "      <td>-0.250078</td>\n",
       "      <td>2.412767</td>\n",
       "      <td>0.759599</td>\n",
       "    </tr>\n",
       "    <tr>\n",
       "      <th>2</th>\n",
       "      <td>2.0</td>\n",
       "      <td>0.062726</td>\n",
       "      <td>0.135392</td>\n",
       "      <td>0.463291</td>\n",
       "      <td>2.412767</td>\n",
       "      <td>0.612688</td>\n",
       "    </tr>\n",
       "  </tbody>\n",
       "</table>\n",
       "</div>"
      ],
      "text/plain": [
       "   con_num    psihat        se      test  crit_value   p_value\n",
       "0      0.0 -0.100698  0.126135 -0.798336    2.412767  0.470785\n",
       "1      1.0 -0.037972  0.151841 -0.250078    2.412767  0.759599\n",
       "2      2.0  0.062726  0.135392  0.463291    2.412767  0.612688"
      ]
     },
     "execution_count": 11,
     "metadata": {},
     "output_type": "execute_result"
    }
   ],
   "source": [
    "results['factor_AB']"
   ]
  },
  {
   "cell_type": "markdown",
   "metadata": {},
   "source": [
    "---"
   ]
  },
  {
   "cell_type": "markdown",
   "metadata": {},
   "source": [
    "### How to compute a robust correlation"
   ]
  },
  {
   "cell_type": "markdown",
   "metadata": {},
   "source": [
    "#### Load data from a CSV"
   ]
  },
  {
   "cell_type": "code",
   "execution_count": 12,
   "metadata": {},
   "outputs": [
    {
     "data": {
      "text/html": [
       "<div>\n",
       "<style scoped>\n",
       "    .dataframe tbody tr th:only-of-type {\n",
       "        vertical-align: middle;\n",
       "    }\n",
       "\n",
       "    .dataframe tbody tr th {\n",
       "        vertical-align: top;\n",
       "    }\n",
       "\n",
       "    .dataframe thead th {\n",
       "        text-align: right;\n",
       "    }\n",
       "</style>\n",
       "<table border=\"1\" class=\"dataframe\">\n",
       "  <thead>\n",
       "    <tr style=\"text-align: right;\">\n",
       "      <th></th>\n",
       "      <th>Group_1</th>\n",
       "      <th>Group_2</th>\n",
       "    </tr>\n",
       "  </thead>\n",
       "  <tbody>\n",
       "    <tr>\n",
       "      <th>0</th>\n",
       "      <td>0.044652</td>\n",
       "      <td>0.906750</td>\n",
       "    </tr>\n",
       "    <tr>\n",
       "      <th>1</th>\n",
       "      <td>0.763458</td>\n",
       "      <td>0.291555</td>\n",
       "    </tr>\n",
       "    <tr>\n",
       "      <th>2</th>\n",
       "      <td>0.710390</td>\n",
       "      <td>0.598280</td>\n",
       "    </tr>\n",
       "    <tr>\n",
       "      <th>3</th>\n",
       "      <td>0.175208</td>\n",
       "      <td>0.268073</td>\n",
       "    </tr>\n",
       "    <tr>\n",
       "      <th>4</th>\n",
       "      <td>0.957819</td>\n",
       "      <td>0.222688</td>\n",
       "    </tr>\n",
       "  </tbody>\n",
       "</table>\n",
       "</div>"
      ],
      "text/plain": [
       "    Group_1   Group_2\n",
       "0  0.044652  0.906750\n",
       "1  0.763458  0.291555\n",
       "2  0.710390  0.598280\n",
       "3  0.175208  0.268073\n",
       "4  0.957819  0.222688"
      ]
     },
     "execution_count": 12,
     "metadata": {},
     "output_type": "execute_result"
    }
   ],
   "source": [
    "import pandas as pd\n",
    "\n",
    "df=pd.read_csv(\"/home/allan/two_groups_data.csv\")\n",
    "\n",
    "df.head()"
   ]
  },
  {
   "cell_type": "markdown",
   "metadata": {},
   "source": [
    "#### Import the desired function and pass in the data for each group\n",
    "- One approach is to winsorize the x and y data\n",
    "- A heteroscedastic method for testing zero correlation is also provided in this package but not shown here \n",
    " - Please see the function `corb` which uses the percentile bootstrap to compute a 1-alpha CI and p_value for any correlation \n",
    "- The output is a dictionary containing various statistics (the winsorized correlation, winsorized covariance, etc...)"
   ]
  },
  {
   "cell_type": "code",
   "execution_count": 13,
   "metadata": {},
   "outputs": [
    {
     "data": {
      "text/plain": [
       "-0.05690314435050796"
      ]
     },
     "execution_count": 13,
     "metadata": {},
     "output_type": "execute_result"
    }
   ],
   "source": [
    "from hypothesize.measuring_associations import wincor\n",
    "\n",
    "results=wincor(df.Group_1, df.Group_2)\n",
    "\n",
    "results['wcor']"
   ]
  }
 ],
 "metadata": {
  "kernelspec": {
   "display_name": "Python 3",
   "language": "python",
   "name": "python3"
  },
  "language_info": {
   "codemirror_mode": {
    "name": "ipython",
    "version": 3
   },
   "file_extension": ".py",
   "mimetype": "text/x-python",
   "name": "python",
   "nbconvert_exporter": "python",
   "pygments_lexer": "ipython3",
   "version": "3.7.6"
  }
 },
 "nbformat": 4,
 "nbformat_minor": 4
}
