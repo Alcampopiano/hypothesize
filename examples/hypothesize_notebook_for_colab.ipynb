{
 "cells": [
  {
   "cell_type": "code",
   "execution_count": null,
   "metadata": {},
   "outputs": [],
   "source": [
    "!pip install hypothesize"
   ]
  },
  {
   "cell_type": "code",
   "execution_count": null,
   "metadata": {},
   "outputs": [],
   "source": [
    "from hypothesize.utilities import create_example_data"
   ]
  },
  {
   "cell_type": "markdown",
   "metadata": {},
   "source": [
    "### How to compare two groups"
   ]
  },
  {
   "cell_type": "markdown",
   "metadata": {},
   "source": [
    "#### Load data from a CSV or create some random data"
   ]
  },
  {
   "cell_type": "code",
   "execution_count": 3,
   "metadata": {},
   "outputs": [
    {
     "data": {
      "text/html": [
       "<div>\n",
       "<style scoped>\n",
       "    .dataframe tbody tr th:only-of-type {\n",
       "        vertical-align: middle;\n",
       "    }\n",
       "\n",
       "    .dataframe tbody tr th {\n",
       "        vertical-align: top;\n",
       "    }\n",
       "\n",
       "    .dataframe thead th {\n",
       "        text-align: right;\n",
       "    }\n",
       "</style>\n",
       "<table border=\"1\" class=\"dataframe\">\n",
       "  <thead>\n",
       "    <tr style=\"text-align: right;\">\n",
       "      <th></th>\n",
       "      <th>Group_1</th>\n",
       "      <th>Group_2</th>\n",
       "    </tr>\n",
       "  </thead>\n",
       "  <tbody>\n",
       "    <tr>\n",
       "      <th>0</th>\n",
       "      <td>0.731413</td>\n",
       "      <td>0.359505</td>\n",
       "    </tr>\n",
       "    <tr>\n",
       "      <th>1</th>\n",
       "      <td>0.352178</td>\n",
       "      <td>0.198409</td>\n",
       "    </tr>\n",
       "    <tr>\n",
       "      <th>2</th>\n",
       "      <td>0.692202</td>\n",
       "      <td>0.227757</td>\n",
       "    </tr>\n",
       "    <tr>\n",
       "      <th>3</th>\n",
       "      <td>0.818677</td>\n",
       "      <td>0.543662</td>\n",
       "    </tr>\n",
       "    <tr>\n",
       "      <th>4</th>\n",
       "      <td>0.147462</td>\n",
       "      <td>0.615596</td>\n",
       "    </tr>\n",
       "  </tbody>\n",
       "</table>\n",
       "</div>"
      ],
      "text/plain": [
       "    Group_1   Group_2\n",
       "0  0.731413  0.359505\n",
       "1  0.352178  0.198409\n",
       "2  0.692202  0.227757\n",
       "3  0.818677  0.543662\n",
       "4  0.147462  0.615596"
      ]
     },
     "execution_count": 3,
     "metadata": {},
     "output_type": "execute_result"
    }
   ],
   "source": [
    "#df=pd.read_csv(\"/home/allan/two_groups_data.csv\")\n",
    "#df=pd.DataFrame(np.random.rand(30, 2), columns=['Group_1', 'Group_2'])\n",
    "df=create_example_data(design_values=2)\n",
    "\n",
    "df.head()"
   ]
  },
  {
   "cell_type": "markdown",
   "metadata": {},
   "source": [
    "#### Import the desired function and pass in the data for each group\n",
    "- This example uses the bootstrapped-t method with 20% trimmed means\n",
    "- The output is a dictionary containing the results (95% confidence interval, p_value, test statistics, etc...)"
   ]
  },
  {
   "cell_type": "code",
   "execution_count": 2,
   "metadata": {},
   "outputs": [
    {
     "name": "stdout",
     "output_type": "stream",
     "text": [
      "[-0.32294783884298334, 0.11774331261500753]\n"
     ]
    }
   ],
   "source": [
    "from hypothesize.compare_groups_with_single_factor import yuenbt\n",
    "\n",
    "results=yuenbt(df.Group_1, df.Group_2)\n",
    "\n",
    "print(results['ci'])"
   ]
  },
  {
   "cell_type": "markdown",
   "metadata": {},
   "source": [
    "---"
   ]
  },
  {
   "cell_type": "markdown",
   "metadata": {},
   "source": [
    "### How to compare three groups"
   ]
  },
  {
   "cell_type": "markdown",
   "metadata": {},
   "source": [
    "#### Load data from a CSV or create some random data"
   ]
  },
  {
   "cell_type": "code",
   "execution_count": 4,
   "metadata": {},
   "outputs": [
    {
     "data": {
      "text/html": [
       "<div>\n",
       "<style scoped>\n",
       "    .dataframe tbody tr th:only-of-type {\n",
       "        vertical-align: middle;\n",
       "    }\n",
       "\n",
       "    .dataframe tbody tr th {\n",
       "        vertical-align: top;\n",
       "    }\n",
       "\n",
       "    .dataframe thead th {\n",
       "        text-align: right;\n",
       "    }\n",
       "</style>\n",
       "<table border=\"1\" class=\"dataframe\">\n",
       "  <thead>\n",
       "    <tr style=\"text-align: right;\">\n",
       "      <th></th>\n",
       "      <th>Group_1</th>\n",
       "      <th>Group_2</th>\n",
       "      <th>Group_3</th>\n",
       "    </tr>\n",
       "  </thead>\n",
       "  <tbody>\n",
       "    <tr>\n",
       "      <th>0</th>\n",
       "      <td>0.410790</td>\n",
       "      <td>0.661795</td>\n",
       "      <td>0.545151</td>\n",
       "    </tr>\n",
       "    <tr>\n",
       "      <th>1</th>\n",
       "      <td>0.773183</td>\n",
       "      <td>0.348142</td>\n",
       "      <td>0.847576</td>\n",
       "    </tr>\n",
       "    <tr>\n",
       "      <th>2</th>\n",
       "      <td>0.543981</td>\n",
       "      <td>0.857189</td>\n",
       "      <td>0.382950</td>\n",
       "    </tr>\n",
       "    <tr>\n",
       "      <th>3</th>\n",
       "      <td>0.995212</td>\n",
       "      <td>0.738859</td>\n",
       "      <td>0.819848</td>\n",
       "    </tr>\n",
       "    <tr>\n",
       "      <th>4</th>\n",
       "      <td>0.192913</td>\n",
       "      <td>0.606873</td>\n",
       "      <td>0.418079</td>\n",
       "    </tr>\n",
       "  </tbody>\n",
       "</table>\n",
       "</div>"
      ],
      "text/plain": [
       "    Group_1   Group_2   Group_3\n",
       "0  0.410790  0.661795  0.545151\n",
       "1  0.773183  0.348142  0.847576\n",
       "2  0.543981  0.857189  0.382950\n",
       "3  0.995212  0.738859  0.819848\n",
       "4  0.192913  0.606873  0.418079"
      ]
     },
     "execution_count": 4,
     "metadata": {},
     "output_type": "execute_result"
    }
   ],
   "source": [
    "import pandas as pd\n",
    "\n",
    "#df=pd.read_csv(\"/home/allan/one_way_data.csv\")\n",
    "#df=pd.DataFrame(np.random.rand(30, 3), columns=['Group_1', 'Group_2', 'Group_3'])\n",
    "df=create_example_data(design_values=3)\n",
    "\n",
    "df.head()"
   ]
  },
  {
   "cell_type": "markdown",
   "metadata": {},
   "source": [
    "#### Import the desired functions and pass in the inputs\n",
    "- One appraoch is to use a set of linear contrasts that will test all pairwise comparisons\n",
    "- Then, the bootstrap-t method and the 20% trimmed mean can be used\n",
    "- CIs are adjusted to control for FWE\n",
    "- All pairwise contrasts can be created automatically using the `con1way` function\n",
    "- The results are a dictionary of DataFrames that contain various statistics (p_value, CIs, standard error, test statistics, etc)"
   ]
  },
  {
   "cell_type": "code",
   "execution_count": 4,
   "metadata": {},
   "outputs": [],
   "source": [
    "from hypothesize.compare_groups_with_single_factor import linconb\n",
    "from hypothesize.utilities import con1way\n",
    "\n",
    "results=linconb(df, con=con1way(3))"
   ]
  },
  {
   "cell_type": "code",
   "execution_count": 5,
   "metadata": {},
   "outputs": [
    {
     "data": {
      "text/html": [
       "<div>\n",
       "<style scoped>\n",
       "    .dataframe tbody tr th:only-of-type {\n",
       "        vertical-align: middle;\n",
       "    }\n",
       "\n",
       "    .dataframe tbody tr th {\n",
       "        vertical-align: top;\n",
       "    }\n",
       "\n",
       "    .dataframe thead th {\n",
       "        text-align: right;\n",
       "    }\n",
       "</style>\n",
       "<table border=\"1\" class=\"dataframe\">\n",
       "  <thead>\n",
       "    <tr style=\"text-align: right;\">\n",
       "      <th></th>\n",
       "      <th>contrast_index</th>\n",
       "      <th>test</th>\n",
       "      <th>se</th>\n",
       "      <th>p_value</th>\n",
       "    </tr>\n",
       "  </thead>\n",
       "  <tbody>\n",
       "    <tr>\n",
       "      <th>0</th>\n",
       "      <td>0.0</td>\n",
       "      <td>-0.999892</td>\n",
       "      <td>0.102613</td>\n",
       "      <td>0.333890</td>\n",
       "    </tr>\n",
       "    <tr>\n",
       "      <th>1</th>\n",
       "      <td>1.0</td>\n",
       "      <td>-0.658110</td>\n",
       "      <td>0.099610</td>\n",
       "      <td>0.522538</td>\n",
       "    </tr>\n",
       "    <tr>\n",
       "      <th>2</th>\n",
       "      <td>2.0</td>\n",
       "      <td>0.362839</td>\n",
       "      <td>0.102106</td>\n",
       "      <td>0.709516</td>\n",
       "    </tr>\n",
       "  </tbody>\n",
       "</table>\n",
       "</div>"
      ],
      "text/plain": [
       "   contrast_index      test        se   p_value\n",
       "0             0.0 -0.999892  0.102613  0.333890\n",
       "1             1.0 -0.658110  0.099610  0.522538\n",
       "2             2.0  0.362839  0.102106  0.709516"
      ]
     },
     "execution_count": 5,
     "metadata": {},
     "output_type": "execute_result"
    }
   ],
   "source": [
    "results['test']"
   ]
  },
  {
   "cell_type": "code",
   "execution_count": 6,
   "metadata": {},
   "outputs": [
    {
     "data": {
      "text/html": [
       "<div>\n",
       "<style scoped>\n",
       "    .dataframe tbody tr th:only-of-type {\n",
       "        vertical-align: middle;\n",
       "    }\n",
       "\n",
       "    .dataframe tbody tr th {\n",
       "        vertical-align: top;\n",
       "    }\n",
       "\n",
       "    .dataframe thead th {\n",
       "        text-align: right;\n",
       "    }\n",
       "</style>\n",
       "<table border=\"1\" class=\"dataframe\">\n",
       "  <thead>\n",
       "    <tr style=\"text-align: right;\">\n",
       "      <th></th>\n",
       "      <th>contrast_index</th>\n",
       "      <th>psihat</th>\n",
       "      <th>ci_low</th>\n",
       "      <th>ci_up</th>\n",
       "    </tr>\n",
       "  </thead>\n",
       "  <tbody>\n",
       "    <tr>\n",
       "      <th>0</th>\n",
       "      <td>0.0</td>\n",
       "      <td>-0.102602</td>\n",
       "      <td>-0.368850</td>\n",
       "      <td>0.163646</td>\n",
       "    </tr>\n",
       "    <tr>\n",
       "      <th>1</th>\n",
       "      <td>1.0</td>\n",
       "      <td>-0.065554</td>\n",
       "      <td>-0.324009</td>\n",
       "      <td>0.192900</td>\n",
       "    </tr>\n",
       "    <tr>\n",
       "      <th>2</th>\n",
       "      <td>2.0</td>\n",
       "      <td>0.037048</td>\n",
       "      <td>-0.227883</td>\n",
       "      <td>0.301979</td>\n",
       "    </tr>\n",
       "  </tbody>\n",
       "</table>\n",
       "</div>"
      ],
      "text/plain": [
       "   contrast_index    psihat    ci_low     ci_up\n",
       "0             0.0 -0.102602 -0.368850  0.163646\n",
       "1             1.0 -0.065554 -0.324009  0.192900\n",
       "2             2.0  0.037048 -0.227883  0.301979"
      ]
     },
     "execution_count": 6,
     "metadata": {},
     "output_type": "execute_result"
    }
   ],
   "source": [
    "results['psihat']"
   ]
  },
  {
   "cell_type": "markdown",
   "metadata": {},
   "source": [
    "---"
   ]
  },
  {
   "cell_type": "markdown",
   "metadata": {},
   "source": [
    "### How to compare groups in a factorial design"
   ]
  },
  {
   "cell_type": "markdown",
   "metadata": {},
   "source": [
    "#### Load data from a CSV or create some random data"
   ]
  },
  {
   "cell_type": "code",
   "execution_count": 5,
   "metadata": {},
   "outputs": [
    {
     "data": {
      "text/html": [
       "<div>\n",
       "<style scoped>\n",
       "    .dataframe tbody tr th:only-of-type {\n",
       "        vertical-align: middle;\n",
       "    }\n",
       "\n",
       "    .dataframe tbody tr th {\n",
       "        vertical-align: top;\n",
       "    }\n",
       "\n",
       "    .dataframe thead th {\n",
       "        text-align: right;\n",
       "    }\n",
       "</style>\n",
       "<table border=\"1\" class=\"dataframe\">\n",
       "  <thead>\n",
       "    <tr style=\"text-align: right;\">\n",
       "      <th></th>\n",
       "      <th>Cell_1_1</th>\n",
       "      <th>Cell_1_2</th>\n",
       "      <th>Cell_1_3</th>\n",
       "      <th>Cell_2_1</th>\n",
       "      <th>Cell_2_2</th>\n",
       "      <th>Cell_2_3</th>\n",
       "    </tr>\n",
       "  </thead>\n",
       "  <tbody>\n",
       "    <tr>\n",
       "      <th>0</th>\n",
       "      <td>0.017184</td>\n",
       "      <td>0.353532</td>\n",
       "      <td>0.703423</td>\n",
       "      <td>0.224846</td>\n",
       "      <td>0.817830</td>\n",
       "      <td>0.469761</td>\n",
       "    </tr>\n",
       "    <tr>\n",
       "      <th>1</th>\n",
       "      <td>0.773729</td>\n",
       "      <td>0.260461</td>\n",
       "      <td>0.907378</td>\n",
       "      <td>0.512377</td>\n",
       "      <td>0.320044</td>\n",
       "      <td>0.775811</td>\n",
       "    </tr>\n",
       "    <tr>\n",
       "      <th>2</th>\n",
       "      <td>0.592182</td>\n",
       "      <td>0.876341</td>\n",
       "      <td>0.773215</td>\n",
       "      <td>0.869646</td>\n",
       "      <td>0.873871</td>\n",
       "      <td>0.914144</td>\n",
       "    </tr>\n",
       "    <tr>\n",
       "      <th>3</th>\n",
       "      <td>0.606674</td>\n",
       "      <td>0.747438</td>\n",
       "      <td>0.432764</td>\n",
       "      <td>0.233671</td>\n",
       "      <td>0.297686</td>\n",
       "      <td>0.327816</td>\n",
       "    </tr>\n",
       "    <tr>\n",
       "      <th>4</th>\n",
       "      <td>0.349483</td>\n",
       "      <td>0.856925</td>\n",
       "      <td>0.092334</td>\n",
       "      <td>0.709812</td>\n",
       "      <td>0.746853</td>\n",
       "      <td>0.007010</td>\n",
       "    </tr>\n",
       "  </tbody>\n",
       "</table>\n",
       "</div>"
      ],
      "text/plain": [
       "   Cell_1_1  Cell_1_2  Cell_1_3  Cell_2_1  Cell_2_2  Cell_2_3\n",
       "0  0.017184  0.353532  0.703423  0.224846  0.817830  0.469761\n",
       "1  0.773729  0.260461  0.907378  0.512377  0.320044  0.775811\n",
       "2  0.592182  0.876341  0.773215  0.869646  0.873871  0.914144\n",
       "3  0.606674  0.747438  0.432764  0.233671  0.297686  0.327816\n",
       "4  0.349483  0.856925  0.092334  0.709812  0.746853  0.007010"
      ]
     },
     "execution_count": 5,
     "metadata": {},
     "output_type": "execute_result"
    }
   ],
   "source": [
    "import pandas as pd\n",
    "\n",
    "#df=pd.read_csv(\"/home/allan/two_way_data.csv\")\n",
    "#df=pd.DataFrame(np.random.rand(30, 6), columns=['Cell_1_1', 'Cell_1_2', 'Cell_1_3', 'Cell_2_1', 'Cell_2_2', 'Cell_2_3'])\n",
    "df=create_example_data(design_values=[2,3])\n",
    "\n",
    "df.head()"
   ]
  },
  {
   "cell_type": "markdown",
   "metadata": {},
   "source": [
    "#### Import the desired function and pass in the data\n",
    "- This example uses a 2-by-3 design\n",
    "- One approach is to use a set of linear contrasts that will test all main effects and interactions\n",
    "- Then, the bootstrap-t method and the 20% trimmed mean can be used\n",
    "- The results are a dictionary of DataFrames that contain various statistics for each factor and the interactions"
   ]
  },
  {
   "cell_type": "code",
   "execution_count": 6,
   "metadata": {},
   "outputs": [],
   "source": [
    "from hypothesize.compare_groups_with_two_factors import bwmcp\n",
    "\n",
    "results=bwmcp(J=2, K=3, x=df)"
   ]
  },
  {
   "cell_type": "code",
   "execution_count": 7,
   "metadata": {},
   "outputs": [
    {
     "data": {
      "text/html": [
       "<div>\n",
       "<style scoped>\n",
       "    .dataframe tbody tr th:only-of-type {\n",
       "        vertical-align: middle;\n",
       "    }\n",
       "\n",
       "    .dataframe tbody tr th {\n",
       "        vertical-align: top;\n",
       "    }\n",
       "\n",
       "    .dataframe thead th {\n",
       "        text-align: right;\n",
       "    }\n",
       "</style>\n",
       "<table border=\"1\" class=\"dataframe\">\n",
       "  <thead>\n",
       "    <tr style=\"text-align: right;\">\n",
       "      <th></th>\n",
       "      <th>con_num</th>\n",
       "      <th>psihat</th>\n",
       "      <th>se</th>\n",
       "      <th>test</th>\n",
       "      <th>crit_value</th>\n",
       "      <th>p_value</th>\n",
       "    </tr>\n",
       "  </thead>\n",
       "  <tbody>\n",
       "    <tr>\n",
       "      <th>0</th>\n",
       "      <td>0.0</td>\n",
       "      <td>0.056109</td>\n",
       "      <td>0.172951</td>\n",
       "      <td>0.32442</td>\n",
       "      <td>2.106767</td>\n",
       "      <td>0.759599</td>\n",
       "    </tr>\n",
       "  </tbody>\n",
       "</table>\n",
       "</div>"
      ],
      "text/plain": [
       "   con_num    psihat        se     test  crit_value   p_value\n",
       "0      0.0  0.056109  0.172951  0.32442    2.106767  0.759599"
      ]
     },
     "execution_count": 7,
     "metadata": {},
     "output_type": "execute_result"
    }
   ],
   "source": [
    "results['factor_A']"
   ]
  },
  {
   "cell_type": "code",
   "execution_count": 8,
   "metadata": {},
   "outputs": [
    {
     "data": {
      "text/html": [
       "<div>\n",
       "<style scoped>\n",
       "    .dataframe tbody tr th:only-of-type {\n",
       "        vertical-align: middle;\n",
       "    }\n",
       "\n",
       "    .dataframe tbody tr th {\n",
       "        vertical-align: top;\n",
       "    }\n",
       "\n",
       "    .dataframe thead th {\n",
       "        text-align: right;\n",
       "    }\n",
       "</style>\n",
       "<table border=\"1\" class=\"dataframe\">\n",
       "  <thead>\n",
       "    <tr style=\"text-align: right;\">\n",
       "      <th></th>\n",
       "      <th>con_num</th>\n",
       "      <th>psihat</th>\n",
       "      <th>se</th>\n",
       "      <th>test</th>\n",
       "      <th>crit_value</th>\n",
       "      <th>p_value</th>\n",
       "    </tr>\n",
       "  </thead>\n",
       "  <tbody>\n",
       "    <tr>\n",
       "      <th>0</th>\n",
       "      <td>0.0</td>\n",
       "      <td>-0.130234</td>\n",
       "      <td>0.136259</td>\n",
       "      <td>-0.955782</td>\n",
       "      <td>2.405083</td>\n",
       "      <td>0.333890</td>\n",
       "    </tr>\n",
       "    <tr>\n",
       "      <th>1</th>\n",
       "      <td>1.0</td>\n",
       "      <td>0.002572</td>\n",
       "      <td>0.149269</td>\n",
       "      <td>0.017233</td>\n",
       "      <td>2.405083</td>\n",
       "      <td>0.984975</td>\n",
       "    </tr>\n",
       "    <tr>\n",
       "      <th>2</th>\n",
       "      <td>2.0</td>\n",
       "      <td>0.132807</td>\n",
       "      <td>0.151360</td>\n",
       "      <td>0.877423</td>\n",
       "      <td>2.405083</td>\n",
       "      <td>0.390651</td>\n",
       "    </tr>\n",
       "  </tbody>\n",
       "</table>\n",
       "</div>"
      ],
      "text/plain": [
       "   con_num    psihat        se      test  crit_value   p_value\n",
       "0      0.0 -0.130234  0.136259 -0.955782    2.405083  0.333890\n",
       "1      1.0  0.002572  0.149269  0.017233    2.405083  0.984975\n",
       "2      2.0  0.132807  0.151360  0.877423    2.405083  0.390651"
      ]
     },
     "execution_count": 8,
     "metadata": {},
     "output_type": "execute_result"
    }
   ],
   "source": [
    "results['factor_B']"
   ]
  },
  {
   "cell_type": "code",
   "execution_count": 9,
   "metadata": {},
   "outputs": [
    {
     "data": {
      "text/html": [
       "<div>\n",
       "<style scoped>\n",
       "    .dataframe tbody tr th:only-of-type {\n",
       "        vertical-align: middle;\n",
       "    }\n",
       "\n",
       "    .dataframe tbody tr th {\n",
       "        vertical-align: top;\n",
       "    }\n",
       "\n",
       "    .dataframe thead th {\n",
       "        text-align: right;\n",
       "    }\n",
       "</style>\n",
       "<table border=\"1\" class=\"dataframe\">\n",
       "  <thead>\n",
       "    <tr style=\"text-align: right;\">\n",
       "      <th></th>\n",
       "      <th>con_num</th>\n",
       "      <th>psihat</th>\n",
       "      <th>se</th>\n",
       "      <th>test</th>\n",
       "      <th>crit_value</th>\n",
       "      <th>p_value</th>\n",
       "    </tr>\n",
       "  </thead>\n",
       "  <tbody>\n",
       "    <tr>\n",
       "      <th>0</th>\n",
       "      <td>0.0</td>\n",
       "      <td>-0.020531</td>\n",
       "      <td>0.136259</td>\n",
       "      <td>-0.150678</td>\n",
       "      <td>2.402193</td>\n",
       "      <td>0.888147</td>\n",
       "    </tr>\n",
       "    <tr>\n",
       "      <th>1</th>\n",
       "      <td>1.0</td>\n",
       "      <td>0.107430</td>\n",
       "      <td>0.149269</td>\n",
       "      <td>0.719705</td>\n",
       "      <td>2.402193</td>\n",
       "      <td>0.485810</td>\n",
       "    </tr>\n",
       "    <tr>\n",
       "      <th>2</th>\n",
       "      <td>2.0</td>\n",
       "      <td>0.127961</td>\n",
       "      <td>0.151360</td>\n",
       "      <td>0.845408</td>\n",
       "      <td>2.402193</td>\n",
       "      <td>0.409015</td>\n",
       "    </tr>\n",
       "  </tbody>\n",
       "</table>\n",
       "</div>"
      ],
      "text/plain": [
       "   con_num    psihat        se      test  crit_value   p_value\n",
       "0      0.0 -0.020531  0.136259 -0.150678    2.402193  0.888147\n",
       "1      1.0  0.107430  0.149269  0.719705    2.402193  0.485810\n",
       "2      2.0  0.127961  0.151360  0.845408    2.402193  0.409015"
      ]
     },
     "execution_count": 9,
     "metadata": {},
     "output_type": "execute_result"
    }
   ],
   "source": [
    "results['factor_AB']"
   ]
  },
  {
   "cell_type": "markdown",
   "metadata": {},
   "source": [
    "---"
   ]
  },
  {
   "cell_type": "markdown",
   "metadata": {},
   "source": [
    "### How to compute a robust correlation"
   ]
  },
  {
   "cell_type": "markdown",
   "metadata": {},
   "source": [
    "#### Load data from a CSV or create some random data"
   ]
  },
  {
   "cell_type": "code",
   "execution_count": 10,
   "metadata": {},
   "outputs": [
    {
     "data": {
      "text/html": [
       "<div>\n",
       "<style scoped>\n",
       "    .dataframe tbody tr th:only-of-type {\n",
       "        vertical-align: middle;\n",
       "    }\n",
       "\n",
       "    .dataframe tbody tr th {\n",
       "        vertical-align: top;\n",
       "    }\n",
       "\n",
       "    .dataframe thead th {\n",
       "        text-align: right;\n",
       "    }\n",
       "</style>\n",
       "<table border=\"1\" class=\"dataframe\">\n",
       "  <thead>\n",
       "    <tr style=\"text-align: right;\">\n",
       "      <th></th>\n",
       "      <th>Group_1</th>\n",
       "      <th>Group_2</th>\n",
       "    </tr>\n",
       "  </thead>\n",
       "  <tbody>\n",
       "    <tr>\n",
       "      <th>0</th>\n",
       "      <td>0.301979</td>\n",
       "      <td>0.387177</td>\n",
       "    </tr>\n",
       "    <tr>\n",
       "      <th>1</th>\n",
       "      <td>0.160594</td>\n",
       "      <td>0.194831</td>\n",
       "    </tr>\n",
       "    <tr>\n",
       "      <th>2</th>\n",
       "      <td>0.411265</td>\n",
       "      <td>0.251657</td>\n",
       "    </tr>\n",
       "    <tr>\n",
       "      <th>3</th>\n",
       "      <td>0.508720</td>\n",
       "      <td>0.968604</td>\n",
       "    </tr>\n",
       "    <tr>\n",
       "      <th>4</th>\n",
       "      <td>0.407827</td>\n",
       "      <td>0.468954</td>\n",
       "    </tr>\n",
       "  </tbody>\n",
       "</table>\n",
       "</div>"
      ],
      "text/plain": [
       "    Group_1   Group_2\n",
       "0  0.301979  0.387177\n",
       "1  0.160594  0.194831\n",
       "2  0.411265  0.251657\n",
       "3  0.508720  0.968604\n",
       "4  0.407827  0.468954"
      ]
     },
     "execution_count": 10,
     "metadata": {},
     "output_type": "execute_result"
    }
   ],
   "source": [
    "import pandas as pd\n",
    "\n",
    "#df=pd.read_csv(\"/home/allan/two_groups_data.csv\")\n",
    "#df=pd.DataFrame(np.random.rand(30, 2), columns=['Group_1', 'Group_2'])\n",
    "df=create_example_data(design_values=2)\n",
    "\n",
    "df.head()"
   ]
  },
  {
   "cell_type": "markdown",
   "metadata": {},
   "source": [
    "#### Import the desired function and pass in the data for each group\n",
    "- One approach is to winsorize the x and y data\n",
    "- A heteroscedastic method for testing zero correlation is also provided in this package but not shown here \n",
    " - Please see the function `corb` which uses the percentile bootstrap to compute a 1-alpha CI and p_value for any correlation \n",
    "- The output is a dictionary containing various statistics (the winsorized correlation, winsorized covariance, etc...)"
   ]
  },
  {
   "cell_type": "code",
   "execution_count": 11,
   "metadata": {},
   "outputs": [
    {
     "data": {
      "text/plain": [
       "-0.163421476595891"
      ]
     },
     "execution_count": 11,
     "metadata": {},
     "output_type": "execute_result"
    }
   ],
   "source": [
    "from hypothesize.measuring_associations import wincor\n",
    "\n",
    "results=wincor(df.Group_1, df.Group_2)\n",
    "\n",
    "results['wcor']"
   ]
  }
 ],
 "metadata": {
  "kernelspec": {
   "display_name": "Python 3",
   "language": "python",
   "name": "python3"
  },
  "language_info": {
   "codemirror_mode": {
    "name": "ipython",
    "version": 3
   },
   "file_extension": ".py",
   "mimetype": "text/x-python",
   "name": "python",
   "nbconvert_exporter": "python",
   "pygments_lexer": "ipython3",
   "version": "3.7.4"
  }
 },
 "nbformat": 4,
 "nbformat_minor": 4
}
