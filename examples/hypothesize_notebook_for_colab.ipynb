{
  "nbformat": 4,
  "nbformat_minor": 0,
  "metadata": {
    "kernelspec": {
      "display_name": "Python 3",
      "language": "python",
      "name": "python3"
    },
    "language_info": {
      "codemirror_mode": {
        "name": "ipython",
        "version": 3
      },
      "file_extension": ".py",
      "mimetype": "text/x-python",
      "name": "python",
      "nbconvert_exporter": "python",
      "pygments_lexer": "ipython3",
      "version": "3.7.4"
    },
    "colab": {
      "name": "hypothesize_notebook_for_colab.ipynb",
      "provenance": []
    }
  },
  "cells": [
    {
      "cell_type": "code",
      "metadata": {
        "id": "AXTC2Xzu3zM9",
        "colab_type": "code",
        "colab": {}
      },
      "source": [
        "!pip install hypothesize"
      ],
      "execution_count": 0,
      "outputs": []
    },
    {
      "cell_type": "code",
      "metadata": {
        "id": "9TPllfTh3zNE",
        "colab_type": "code",
        "colab": {}
      },
      "source": [
        "from hypothesize.utilities import create_example_data"
      ],
      "execution_count": 0,
      "outputs": []
    },
    {
      "cell_type": "markdown",
      "metadata": {
        "id": "zNFQXwRd3zNJ",
        "colab_type": "text"
      },
      "source": [
        "### How to compare two groups"
      ]
    },
    {
      "cell_type": "markdown",
      "metadata": {
        "id": "pA-fXciM3zNK",
        "colab_type": "text"
      },
      "source": [
        "#### Load data from a CSV or create some random data"
      ]
    },
    {
      "cell_type": "code",
      "metadata": {
        "id": "ZrMIEtaw3zNM",
        "colab_type": "code",
        "colab": {
          "base_uri": "https://localhost:8080/",
          "height": 202
        },
        "outputId": "6f67562a-6196-4867-e2c4-b3d9ce256abb"
      },
      "source": [
        "#df=pd.read_csv(\"/home/allan/two_groups_data.csv\")\n",
        "#df=pd.DataFrame(np.random.rand(30, 2), columns=['Group_1', 'Group_2'])\n",
        "df=create_example_data(design_values=2)\n",
        "\n",
        "df.head()"
      ],
      "execution_count": 21,
      "outputs": [
        {
          "output_type": "execute_result",
          "data": {
            "text/html": [
              "<div>\n",
              "<style scoped>\n",
              "    .dataframe tbody tr th:only-of-type {\n",
              "        vertical-align: middle;\n",
              "    }\n",
              "\n",
              "    .dataframe tbody tr th {\n",
              "        vertical-align: top;\n",
              "    }\n",
              "\n",
              "    .dataframe thead th {\n",
              "        text-align: right;\n",
              "    }\n",
              "</style>\n",
              "<table border=\"1\" class=\"dataframe\">\n",
              "  <thead>\n",
              "    <tr style=\"text-align: right;\">\n",
              "      <th></th>\n",
              "      <th>cell_1</th>\n",
              "      <th>cell_2</th>\n",
              "    </tr>\n",
              "  </thead>\n",
              "  <tbody>\n",
              "    <tr>\n",
              "      <th>0</th>\n",
              "      <td>0.329851</td>\n",
              "      <td>0.526237</td>\n",
              "    </tr>\n",
              "    <tr>\n",
              "      <th>1</th>\n",
              "      <td>0.606983</td>\n",
              "      <td>0.983393</td>\n",
              "    </tr>\n",
              "    <tr>\n",
              "      <th>2</th>\n",
              "      <td>0.810906</td>\n",
              "      <td>0.081501</td>\n",
              "    </tr>\n",
              "    <tr>\n",
              "      <th>3</th>\n",
              "      <td>0.423467</td>\n",
              "      <td>0.528037</td>\n",
              "    </tr>\n",
              "    <tr>\n",
              "      <th>4</th>\n",
              "      <td>0.925547</td>\n",
              "      <td>0.729418</td>\n",
              "    </tr>\n",
              "  </tbody>\n",
              "</table>\n",
              "</div>"
            ],
            "text/plain": [
              "     cell_1    cell_2\n",
              "0  0.329851  0.526237\n",
              "1  0.606983  0.983393\n",
              "2  0.810906  0.081501\n",
              "3  0.423467  0.528037\n",
              "4  0.925547  0.729418"
            ]
          },
          "metadata": {
            "tags": []
          },
          "execution_count": 21
        }
      ]
    },
    {
      "cell_type": "markdown",
      "metadata": {
        "id": "b7DXVXTP3zNR",
        "colab_type": "text"
      },
      "source": [
        "#### Import the desired function and pass in the data for each group\n",
        "- This example uses the bootstrapped-t method with 20% trimmed means\n",
        "- The output is a dictionary containing the results (95% confidence interval, p_value, test statistics, etc...)"
      ]
    },
    {
      "cell_type": "code",
      "metadata": {
        "id": "2hapgjCg3zNU",
        "colab_type": "code",
        "colab": {
          "base_uri": "https://localhost:8080/",
          "height": 35
        },
        "outputId": "3ad45d25-3fb0-4454-b6da-b8eee38a93aa"
      },
      "source": [
        "from hypothesize.compare_groups_with_single_factor import yuenbt\n",
        "\n",
        "results=yuenbt(df.cell_1, df.cell_2)\n",
        "\n",
        "print(results['ci'])"
      ],
      "execution_count": 22,
      "outputs": [
        {
          "output_type": "stream",
          "text": [
            "[-0.11603944424803112, 0.18613575064035434]\n"
          ],
          "name": "stdout"
        }
      ]
    },
    {
      "cell_type": "markdown",
      "metadata": {
        "id": "rCYUwGzw3zNY",
        "colab_type": "text"
      },
      "source": [
        "---"
      ]
    },
    {
      "cell_type": "markdown",
      "metadata": {
        "id": "iU8nQykk3zNZ",
        "colab_type": "text"
      },
      "source": [
        "### How to compare three groups"
      ]
    },
    {
      "cell_type": "markdown",
      "metadata": {
        "id": "GOw1Y9_v3zNb",
        "colab_type": "text"
      },
      "source": [
        "#### Load data from a CSV or create some random data"
      ]
    },
    {
      "cell_type": "code",
      "metadata": {
        "id": "akjpBynJ3zNd",
        "colab_type": "code",
        "colab": {
          "base_uri": "https://localhost:8080/",
          "height": 202
        },
        "outputId": "b7f53e15-e989-4ec9-a349-47405e7bdf58"
      },
      "source": [
        "import pandas as pd\n",
        "\n",
        "#df=pd.read_csv(\"/home/allan/one_way_data.csv\")\n",
        "#df=pd.DataFrame(np.random.rand(30, 3), columns=['Group_1', 'Group_2', 'Group_3'])\n",
        "df=create_example_data(design_values=3)\n",
        "\n",
        "df.head()"
      ],
      "execution_count": 23,
      "outputs": [
        {
          "output_type": "execute_result",
          "data": {
            "text/html": [
              "<div>\n",
              "<style scoped>\n",
              "    .dataframe tbody tr th:only-of-type {\n",
              "        vertical-align: middle;\n",
              "    }\n",
              "\n",
              "    .dataframe tbody tr th {\n",
              "        vertical-align: top;\n",
              "    }\n",
              "\n",
              "    .dataframe thead th {\n",
              "        text-align: right;\n",
              "    }\n",
              "</style>\n",
              "<table border=\"1\" class=\"dataframe\">\n",
              "  <thead>\n",
              "    <tr style=\"text-align: right;\">\n",
              "      <th></th>\n",
              "      <th>cell_1</th>\n",
              "      <th>cell_2</th>\n",
              "      <th>cell_3</th>\n",
              "    </tr>\n",
              "  </thead>\n",
              "  <tbody>\n",
              "    <tr>\n",
              "      <th>0</th>\n",
              "      <td>0.737840</td>\n",
              "      <td>0.989855</td>\n",
              "      <td>0.773771</td>\n",
              "    </tr>\n",
              "    <tr>\n",
              "      <th>1</th>\n",
              "      <td>0.563954</td>\n",
              "      <td>0.803775</td>\n",
              "      <td>0.488092</td>\n",
              "    </tr>\n",
              "    <tr>\n",
              "      <th>2</th>\n",
              "      <td>0.455691</td>\n",
              "      <td>0.399078</td>\n",
              "      <td>0.766576</td>\n",
              "    </tr>\n",
              "    <tr>\n",
              "      <th>3</th>\n",
              "      <td>0.406155</td>\n",
              "      <td>0.990134</td>\n",
              "      <td>0.130478</td>\n",
              "    </tr>\n",
              "    <tr>\n",
              "      <th>4</th>\n",
              "      <td>0.707244</td>\n",
              "      <td>0.142606</td>\n",
              "      <td>0.763680</td>\n",
              "    </tr>\n",
              "  </tbody>\n",
              "</table>\n",
              "</div>"
            ],
            "text/plain": [
              "     cell_1    cell_2    cell_3\n",
              "0  0.737840  0.989855  0.773771\n",
              "1  0.563954  0.803775  0.488092\n",
              "2  0.455691  0.399078  0.766576\n",
              "3  0.406155  0.990134  0.130478\n",
              "4  0.707244  0.142606  0.763680"
            ]
          },
          "metadata": {
            "tags": []
          },
          "execution_count": 23
        }
      ]
    },
    {
      "cell_type": "markdown",
      "metadata": {
        "id": "jRxALG1a3zNh",
        "colab_type": "text"
      },
      "source": [
        "#### Import the desired functions and pass in the inputs\n",
        "- One appraoch is to use a set of linear contrasts that will test all pairwise comparisons\n",
        "- Then, the bootstrap-t method and the 20% trimmed mean can be used\n",
        "- CIs are adjusted to control for FWE\n",
        "- All pairwise contrasts can be created automatically using the `con1way` function\n",
        "- The results are a dictionary of DataFrames that contain various statistics (p_value, CIs, standard error, test statistics, etc)"
      ]
    },
    {
      "cell_type": "code",
      "metadata": {
        "id": "NJ5LK8G_3zNi",
        "colab_type": "code",
        "colab": {}
      },
      "source": [
        "from hypothesize.compare_groups_with_single_factor import linconb\n",
        "from hypothesize.utilities import con1way\n",
        "\n",
        "results=linconb(df, con=con1way(3))"
      ],
      "execution_count": 0,
      "outputs": []
    },
    {
      "cell_type": "code",
      "metadata": {
        "id": "et1Acy1S3zNm",
        "colab_type": "code",
        "colab": {
          "base_uri": "https://localhost:8080/",
          "height": 141
        },
        "outputId": "19edf601-37b1-404e-e3bb-fef221c6abbb"
      },
      "source": [
        "results['test']"
      ],
      "execution_count": 25,
      "outputs": [
        {
          "output_type": "execute_result",
          "data": {
            "text/html": [
              "<div>\n",
              "<style scoped>\n",
              "    .dataframe tbody tr th:only-of-type {\n",
              "        vertical-align: middle;\n",
              "    }\n",
              "\n",
              "    .dataframe tbody tr th {\n",
              "        vertical-align: top;\n",
              "    }\n",
              "\n",
              "    .dataframe thead th {\n",
              "        text-align: right;\n",
              "    }\n",
              "</style>\n",
              "<table border=\"1\" class=\"dataframe\">\n",
              "  <thead>\n",
              "    <tr style=\"text-align: right;\">\n",
              "      <th></th>\n",
              "      <th>contrast_index</th>\n",
              "      <th>test</th>\n",
              "      <th>se</th>\n",
              "      <th>p_value</th>\n",
              "    </tr>\n",
              "  </thead>\n",
              "  <tbody>\n",
              "    <tr>\n",
              "      <th>0</th>\n",
              "      <td>0.0</td>\n",
              "      <td>-0.772485</td>\n",
              "      <td>0.076008</td>\n",
              "      <td>0.474124</td>\n",
              "    </tr>\n",
              "    <tr>\n",
              "      <th>1</th>\n",
              "      <td>1.0</td>\n",
              "      <td>-1.145491</td>\n",
              "      <td>0.061955</td>\n",
              "      <td>0.268781</td>\n",
              "    </tr>\n",
              "    <tr>\n",
              "      <th>2</th>\n",
              "      <td>2.0</td>\n",
              "      <td>-0.151003</td>\n",
              "      <td>0.081146</td>\n",
              "      <td>0.883139</td>\n",
              "    </tr>\n",
              "  </tbody>\n",
              "</table>\n",
              "</div>"
            ],
            "text/plain": [
              "   contrast_index      test        se   p_value\n",
              "0             0.0 -0.772485  0.076008  0.474124\n",
              "1             1.0 -1.145491  0.061955  0.268781\n",
              "2             2.0 -0.151003  0.081146  0.883139"
            ]
          },
          "metadata": {
            "tags": []
          },
          "execution_count": 25
        }
      ]
    },
    {
      "cell_type": "code",
      "metadata": {
        "id": "CCMzuKYX3zNq",
        "colab_type": "code",
        "colab": {
          "base_uri": "https://localhost:8080/",
          "height": 141
        },
        "outputId": "bafc1ba0-77cc-4d19-ff43-907753fc8596"
      },
      "source": [
        "results['psihat']"
      ],
      "execution_count": 26,
      "outputs": [
        {
          "output_type": "execute_result",
          "data": {
            "text/html": [
              "<div>\n",
              "<style scoped>\n",
              "    .dataframe tbody tr th:only-of-type {\n",
              "        vertical-align: middle;\n",
              "    }\n",
              "\n",
              "    .dataframe tbody tr th {\n",
              "        vertical-align: top;\n",
              "    }\n",
              "\n",
              "    .dataframe thead th {\n",
              "        text-align: right;\n",
              "    }\n",
              "</style>\n",
              "<table border=\"1\" class=\"dataframe\">\n",
              "  <thead>\n",
              "    <tr style=\"text-align: right;\">\n",
              "      <th></th>\n",
              "      <th>contrast_index</th>\n",
              "      <th>psihat</th>\n",
              "      <th>ci_low</th>\n",
              "      <th>ci_up</th>\n",
              "    </tr>\n",
              "  </thead>\n",
              "  <tbody>\n",
              "    <tr>\n",
              "      <th>0</th>\n",
              "      <td>0.0</td>\n",
              "      <td>-0.058715</td>\n",
              "      <td>-0.240198</td>\n",
              "      <td>0.122768</td>\n",
              "    </tr>\n",
              "    <tr>\n",
              "      <th>1</th>\n",
              "      <td>1.0</td>\n",
              "      <td>-0.070968</td>\n",
              "      <td>-0.218896</td>\n",
              "      <td>0.076960</td>\n",
              "    </tr>\n",
              "    <tr>\n",
              "      <th>2</th>\n",
              "      <td>2.0</td>\n",
              "      <td>-0.012253</td>\n",
              "      <td>-0.206006</td>\n",
              "      <td>0.181499</td>\n",
              "    </tr>\n",
              "  </tbody>\n",
              "</table>\n",
              "</div>"
            ],
            "text/plain": [
              "   contrast_index    psihat    ci_low     ci_up\n",
              "0             0.0 -0.058715 -0.240198  0.122768\n",
              "1             1.0 -0.070968 -0.218896  0.076960\n",
              "2             2.0 -0.012253 -0.206006  0.181499"
            ]
          },
          "metadata": {
            "tags": []
          },
          "execution_count": 26
        }
      ]
    },
    {
      "cell_type": "markdown",
      "metadata": {
        "id": "d-AMqtzP3zNv",
        "colab_type": "text"
      },
      "source": [
        "---"
      ]
    },
    {
      "cell_type": "markdown",
      "metadata": {
        "id": "XO-FNoJw3zNw",
        "colab_type": "text"
      },
      "source": [
        "### How to compare groups in a factorial design"
      ]
    },
    {
      "cell_type": "markdown",
      "metadata": {
        "id": "qJcHGgDv3zNx",
        "colab_type": "text"
      },
      "source": [
        "#### Load data from a CSV or create some random data"
      ]
    },
    {
      "cell_type": "code",
      "metadata": {
        "id": "jE-FN9Lx3zNz",
        "colab_type": "code",
        "colab": {
          "base_uri": "https://localhost:8080/",
          "height": 202
        },
        "outputId": "1d571858-6c1b-41af-bd18-0bf0364197ea"
      },
      "source": [
        "import pandas as pd\n",
        "\n",
        "#df=pd.read_csv(\"/home/allan/two_way_data.csv\")\n",
        "#df=pd.DataFrame(np.random.rand(30, 6), columns=['Cell_1_1', 'Cell_1_2', 'Cell_1_3', 'Cell_2_1', 'Cell_2_2', 'Cell_2_3'])\n",
        "df=create_example_data(design_values=[2,3])\n",
        "\n",
        "df.head()"
      ],
      "execution_count": 27,
      "outputs": [
        {
          "output_type": "execute_result",
          "data": {
            "text/html": [
              "<div>\n",
              "<style scoped>\n",
              "    .dataframe tbody tr th:only-of-type {\n",
              "        vertical-align: middle;\n",
              "    }\n",
              "\n",
              "    .dataframe tbody tr th {\n",
              "        vertical-align: top;\n",
              "    }\n",
              "\n",
              "    .dataframe thead th {\n",
              "        text-align: right;\n",
              "    }\n",
              "</style>\n",
              "<table border=\"1\" class=\"dataframe\">\n",
              "  <thead>\n",
              "    <tr style=\"text-align: right;\">\n",
              "      <th></th>\n",
              "      <th>cell_1_1</th>\n",
              "      <th>cell_1_2</th>\n",
              "      <th>cell_1_3</th>\n",
              "      <th>cell_2_1</th>\n",
              "      <th>cell_2_2</th>\n",
              "      <th>cell_2_3</th>\n",
              "    </tr>\n",
              "  </thead>\n",
              "  <tbody>\n",
              "    <tr>\n",
              "      <th>0</th>\n",
              "      <td>0.167022</td>\n",
              "      <td>0.614963</td>\n",
              "      <td>0.519649</td>\n",
              "      <td>0.228407</td>\n",
              "      <td>0.819594</td>\n",
              "      <td>0.556258</td>\n",
              "    </tr>\n",
              "    <tr>\n",
              "      <th>1</th>\n",
              "      <td>0.850018</td>\n",
              "      <td>0.927924</td>\n",
              "      <td>0.475344</td>\n",
              "      <td>0.294832</td>\n",
              "      <td>0.492162</td>\n",
              "      <td>0.463243</td>\n",
              "    </tr>\n",
              "    <tr>\n",
              "      <th>2</th>\n",
              "      <td>0.955372</td>\n",
              "      <td>0.957722</td>\n",
              "      <td>0.490048</td>\n",
              "      <td>0.981387</td>\n",
              "      <td>0.213012</td>\n",
              "      <td>0.161629</td>\n",
              "    </tr>\n",
              "    <tr>\n",
              "      <th>3</th>\n",
              "      <td>0.057583</td>\n",
              "      <td>0.803063</td>\n",
              "      <td>0.860049</td>\n",
              "      <td>0.464877</td>\n",
              "      <td>0.019053</td>\n",
              "      <td>0.377123</td>\n",
              "    </tr>\n",
              "    <tr>\n",
              "      <th>4</th>\n",
              "      <td>0.984513</td>\n",
              "      <td>0.858128</td>\n",
              "      <td>0.331574</td>\n",
              "      <td>0.067155</td>\n",
              "      <td>0.484409</td>\n",
              "      <td>0.870925</td>\n",
              "    </tr>\n",
              "  </tbody>\n",
              "</table>\n",
              "</div>"
            ],
            "text/plain": [
              "   cell_1_1  cell_1_2  cell_1_3  cell_2_1  cell_2_2  cell_2_3\n",
              "0  0.167022  0.614963  0.519649  0.228407  0.819594  0.556258\n",
              "1  0.850018  0.927924  0.475344  0.294832  0.492162  0.463243\n",
              "2  0.955372  0.957722  0.490048  0.981387  0.213012  0.161629\n",
              "3  0.057583  0.803063  0.860049  0.464877  0.019053  0.377123\n",
              "4  0.984513  0.858128  0.331574  0.067155  0.484409  0.870925"
            ]
          },
          "metadata": {
            "tags": []
          },
          "execution_count": 27
        }
      ]
    },
    {
      "cell_type": "markdown",
      "metadata": {
        "id": "aaVxg64m3zN2",
        "colab_type": "text"
      },
      "source": [
        "#### Import the desired function and pass in the data\n",
        "- This example uses a 2-by-3 design\n",
        "- One approach is to use a set of linear contrasts that will test all main effects and interactions\n",
        "- Then, the bootstrap-t method and the 20% trimmed mean can be used\n",
        "- The results are a dictionary of DataFrames that contain various statistics for each factor and the interactions"
      ]
    },
    {
      "cell_type": "code",
      "metadata": {
        "id": "X_muz_Lz3zN4",
        "colab_type": "code",
        "colab": {}
      },
      "source": [
        "from hypothesize.compare_groups_with_two_factors import bwmcp\n",
        "\n",
        "results=bwmcp(J=2, K=3, x=df)"
      ],
      "execution_count": 0,
      "outputs": []
    },
    {
      "cell_type": "code",
      "metadata": {
        "id": "0Sm5AHgQ3zN8",
        "colab_type": "code",
        "colab": {
          "base_uri": "https://localhost:8080/",
          "height": 79
        },
        "outputId": "f9ef905e-5801-4566-a60b-2cfbbe987d7c"
      },
      "source": [
        "results['factor_A']"
      ],
      "execution_count": 29,
      "outputs": [
        {
          "output_type": "execute_result",
          "data": {
            "text/html": [
              "<div>\n",
              "<style scoped>\n",
              "    .dataframe tbody tr th:only-of-type {\n",
              "        vertical-align: middle;\n",
              "    }\n",
              "\n",
              "    .dataframe tbody tr th {\n",
              "        vertical-align: top;\n",
              "    }\n",
              "\n",
              "    .dataframe thead th {\n",
              "        text-align: right;\n",
              "    }\n",
              "</style>\n",
              "<table border=\"1\" class=\"dataframe\">\n",
              "  <thead>\n",
              "    <tr style=\"text-align: right;\">\n",
              "      <th></th>\n",
              "      <th>con_num</th>\n",
              "      <th>psihat</th>\n",
              "      <th>se</th>\n",
              "      <th>test</th>\n",
              "      <th>crit_value</th>\n",
              "      <th>p_value</th>\n",
              "    </tr>\n",
              "  </thead>\n",
              "  <tbody>\n",
              "    <tr>\n",
              "      <th>0</th>\n",
              "      <td>0.0</td>\n",
              "      <td>-0.024799</td>\n",
              "      <td>0.119185</td>\n",
              "      <td>-0.208069</td>\n",
              "      <td>2.009311</td>\n",
              "      <td>0.834725</td>\n",
              "    </tr>\n",
              "  </tbody>\n",
              "</table>\n",
              "</div>"
            ],
            "text/plain": [
              "   con_num    psihat        se      test  crit_value   p_value\n",
              "0      0.0 -0.024799  0.119185 -0.208069    2.009311  0.834725"
            ]
          },
          "metadata": {
            "tags": []
          },
          "execution_count": 29
        }
      ]
    },
    {
      "cell_type": "code",
      "metadata": {
        "id": "Ff6ipBF23zN_",
        "colab_type": "code",
        "colab": {
          "base_uri": "https://localhost:8080/",
          "height": 141
        },
        "outputId": "f3b84d30-d07f-4dce-d25d-29e480c2ef28"
      },
      "source": [
        "results['factor_B']"
      ],
      "execution_count": 30,
      "outputs": [
        {
          "output_type": "execute_result",
          "data": {
            "text/html": [
              "<div>\n",
              "<style scoped>\n",
              "    .dataframe tbody tr th:only-of-type {\n",
              "        vertical-align: middle;\n",
              "    }\n",
              "\n",
              "    .dataframe tbody tr th {\n",
              "        vertical-align: top;\n",
              "    }\n",
              "\n",
              "    .dataframe thead th {\n",
              "        text-align: right;\n",
              "    }\n",
              "</style>\n",
              "<table border=\"1\" class=\"dataframe\">\n",
              "  <thead>\n",
              "    <tr style=\"text-align: right;\">\n",
              "      <th></th>\n",
              "      <th>con_num</th>\n",
              "      <th>psihat</th>\n",
              "      <th>se</th>\n",
              "      <th>test</th>\n",
              "      <th>crit_value</th>\n",
              "      <th>p_value</th>\n",
              "    </tr>\n",
              "  </thead>\n",
              "  <tbody>\n",
              "    <tr>\n",
              "      <th>0</th>\n",
              "      <td>0.0</td>\n",
              "      <td>0.078105</td>\n",
              "      <td>0.121623</td>\n",
              "      <td>0.642185</td>\n",
              "      <td>2.345532</td>\n",
              "      <td>0.547579</td>\n",
              "    </tr>\n",
              "    <tr>\n",
              "      <th>1</th>\n",
              "      <td>1.0</td>\n",
              "      <td>0.045894</td>\n",
              "      <td>0.128648</td>\n",
              "      <td>0.356742</td>\n",
              "      <td>2.345532</td>\n",
              "      <td>0.707846</td>\n",
              "    </tr>\n",
              "    <tr>\n",
              "      <th>2</th>\n",
              "      <td>2.0</td>\n",
              "      <td>-0.032210</td>\n",
              "      <td>0.113123</td>\n",
              "      <td>-0.284738</td>\n",
              "      <td>2.345532</td>\n",
              "      <td>0.772955</td>\n",
              "    </tr>\n",
              "  </tbody>\n",
              "</table>\n",
              "</div>"
            ],
            "text/plain": [
              "   con_num    psihat        se      test  crit_value   p_value\n",
              "0      0.0  0.078105  0.121623  0.642185    2.345532  0.547579\n",
              "1      1.0  0.045894  0.128648  0.356742    2.345532  0.707846\n",
              "2      2.0 -0.032210  0.113123 -0.284738    2.345532  0.772955"
            ]
          },
          "metadata": {
            "tags": []
          },
          "execution_count": 30
        }
      ]
    },
    {
      "cell_type": "code",
      "metadata": {
        "id": "2cKKYZh83zOF",
        "colab_type": "code",
        "colab": {
          "base_uri": "https://localhost:8080/",
          "height": 141
        },
        "outputId": "4332a698-f171-478a-99b3-d689d38e285e"
      },
      "source": [
        "results['factor_AB']"
      ],
      "execution_count": 31,
      "outputs": [
        {
          "output_type": "execute_result",
          "data": {
            "text/html": [
              "<div>\n",
              "<style scoped>\n",
              "    .dataframe tbody tr th:only-of-type {\n",
              "        vertical-align: middle;\n",
              "    }\n",
              "\n",
              "    .dataframe tbody tr th {\n",
              "        vertical-align: top;\n",
              "    }\n",
              "\n",
              "    .dataframe thead th {\n",
              "        text-align: right;\n",
              "    }\n",
              "</style>\n",
              "<table border=\"1\" class=\"dataframe\">\n",
              "  <thead>\n",
              "    <tr style=\"text-align: right;\">\n",
              "      <th></th>\n",
              "      <th>con_num</th>\n",
              "      <th>psihat</th>\n",
              "      <th>se</th>\n",
              "      <th>test</th>\n",
              "      <th>crit_value</th>\n",
              "      <th>p_value</th>\n",
              "    </tr>\n",
              "  </thead>\n",
              "  <tbody>\n",
              "    <tr>\n",
              "      <th>0</th>\n",
              "      <td>0.0</td>\n",
              "      <td>0.018329</td>\n",
              "      <td>0.121623</td>\n",
              "      <td>0.150703</td>\n",
              "      <td>2.326647</td>\n",
              "      <td>0.891486</td>\n",
              "    </tr>\n",
              "    <tr>\n",
              "      <th>1</th>\n",
              "      <td>1.0</td>\n",
              "      <td>-0.146916</td>\n",
              "      <td>0.128648</td>\n",
              "      <td>-1.142001</td>\n",
              "      <td>2.326647</td>\n",
              "      <td>0.252087</td>\n",
              "    </tr>\n",
              "    <tr>\n",
              "      <th>2</th>\n",
              "      <td>2.0</td>\n",
              "      <td>-0.165245</td>\n",
              "      <td>0.113123</td>\n",
              "      <td>-1.460755</td>\n",
              "      <td>2.326647</td>\n",
              "      <td>0.145242</td>\n",
              "    </tr>\n",
              "  </tbody>\n",
              "</table>\n",
              "</div>"
            ],
            "text/plain": [
              "   con_num    psihat        se      test  crit_value   p_value\n",
              "0      0.0  0.018329  0.121623  0.150703    2.326647  0.891486\n",
              "1      1.0 -0.146916  0.128648 -1.142001    2.326647  0.252087\n",
              "2      2.0 -0.165245  0.113123 -1.460755    2.326647  0.145242"
            ]
          },
          "metadata": {
            "tags": []
          },
          "execution_count": 31
        }
      ]
    },
    {
      "cell_type": "markdown",
      "metadata": {
        "id": "uOyKCT9M3zOJ",
        "colab_type": "text"
      },
      "source": [
        "---"
      ]
    },
    {
      "cell_type": "markdown",
      "metadata": {
        "id": "JZxF8Ygi3zOK",
        "colab_type": "text"
      },
      "source": [
        "### How to compute a robust correlation"
      ]
    },
    {
      "cell_type": "markdown",
      "metadata": {
        "id": "a2WTERe43zOL",
        "colab_type": "text"
      },
      "source": [
        "#### Load data from a CSV or create some random data"
      ]
    },
    {
      "cell_type": "code",
      "metadata": {
        "id": "FU8Ey3iI3zON",
        "colab_type": "code",
        "colab": {
          "base_uri": "https://localhost:8080/",
          "height": 202
        },
        "outputId": "3ff6550a-2f5d-4358-f71d-6bc21ba9fd5a"
      },
      "source": [
        "import pandas as pd\n",
        "\n",
        "#df=pd.read_csv(\"/home/allan/two_groups_data.csv\")\n",
        "#df=pd.DataFrame(np.random.rand(30, 2), columns=['Group_1', 'Group_2'])\n",
        "df=create_example_data(design_values=2)\n",
        "\n",
        "df.head()"
      ],
      "execution_count": 32,
      "outputs": [
        {
          "output_type": "execute_result",
          "data": {
            "text/html": [
              "<div>\n",
              "<style scoped>\n",
              "    .dataframe tbody tr th:only-of-type {\n",
              "        vertical-align: middle;\n",
              "    }\n",
              "\n",
              "    .dataframe tbody tr th {\n",
              "        vertical-align: top;\n",
              "    }\n",
              "\n",
              "    .dataframe thead th {\n",
              "        text-align: right;\n",
              "    }\n",
              "</style>\n",
              "<table border=\"1\" class=\"dataframe\">\n",
              "  <thead>\n",
              "    <tr style=\"text-align: right;\">\n",
              "      <th></th>\n",
              "      <th>cell_1</th>\n",
              "      <th>cell_2</th>\n",
              "    </tr>\n",
              "  </thead>\n",
              "  <tbody>\n",
              "    <tr>\n",
              "      <th>0</th>\n",
              "      <td>0.349846</td>\n",
              "      <td>0.166183</td>\n",
              "    </tr>\n",
              "    <tr>\n",
              "      <th>1</th>\n",
              "      <td>0.880760</td>\n",
              "      <td>0.933885</td>\n",
              "    </tr>\n",
              "    <tr>\n",
              "      <th>2</th>\n",
              "      <td>0.400145</td>\n",
              "      <td>0.462919</td>\n",
              "    </tr>\n",
              "    <tr>\n",
              "      <th>3</th>\n",
              "      <td>0.000669</td>\n",
              "      <td>0.765621</td>\n",
              "    </tr>\n",
              "    <tr>\n",
              "      <th>4</th>\n",
              "      <td>0.084667</td>\n",
              "      <td>0.729029</td>\n",
              "    </tr>\n",
              "  </tbody>\n",
              "</table>\n",
              "</div>"
            ],
            "text/plain": [
              "     cell_1    cell_2\n",
              "0  0.349846  0.166183\n",
              "1  0.880760  0.933885\n",
              "2  0.400145  0.462919\n",
              "3  0.000669  0.765621\n",
              "4  0.084667  0.729029"
            ]
          },
          "metadata": {
            "tags": []
          },
          "execution_count": 32
        }
      ]
    },
    {
      "cell_type": "markdown",
      "metadata": {
        "id": "qY-7yf8Q3zOQ",
        "colab_type": "text"
      },
      "source": [
        "#### Import the desired function and pass in the data for each group\n",
        "- One approach is to winsorize the x and y data\n",
        "- A heteroscedastic method for testing zero correlation is also provided in this package but not shown here \n",
        " - Please see the function `corb` which uses the percentile bootstrap to compute a 1-alpha CI and p_value for any correlation \n",
        "- The output is a dictionary containing various statistics (the winsorized correlation, winsorized covariance, etc...)"
      ]
    },
    {
      "cell_type": "code",
      "metadata": {
        "id": "mMeESqd33zOR",
        "colab_type": "code",
        "colab": {
          "base_uri": "https://localhost:8080/",
          "height": 35
        },
        "outputId": "57d45404-cf81-46de-8a53-9efebc2871dc"
      },
      "source": [
        "from hypothesize.measuring_associations import wincor\n",
        "\n",
        "results=wincor(df.cell_1, df.cell_2)\n",
        "\n",
        "results['wcor']"
      ],
      "execution_count": 33,
      "outputs": [
        {
          "output_type": "execute_result",
          "data": {
            "text/plain": [
              "0.008829355421979232"
            ]
          },
          "metadata": {
            "tags": []
          },
          "execution_count": 33
        }
      ]
    }
  ]
}